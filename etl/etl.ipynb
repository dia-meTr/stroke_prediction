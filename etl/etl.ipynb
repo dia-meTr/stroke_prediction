{
 "cells": [
  {
   "cell_type": "markdown",
   "source": [
    "Перед початком роботи над etl, варто дослідити саму структуру датасету"
   ],
   "metadata": {
    "collapsed": false,
    "pycharm": {
     "name": "#%% md\n"
    }
   }
  },
  {
   "cell_type": "code",
   "execution_count": 1,
   "outputs": [],
   "source": [
    "import numpy as np\n",
    "import pandas as pd\n",
    "from sklearn.impute import KNNImputer\n",
    "import sqlite3\n",
    "from sqlalchemy import create_engine\n",
    "\n",
    "\n",
    "df = pd.read_csv('../data/healthcare-dataset-stroke-data.csv')  # read CSV"
   ],
   "metadata": {
    "collapsed": false,
    "pycharm": {
     "name": "#%%\n"
    }
   }
  },
  {
   "cell_type": "markdown",
   "source": [
    "Отож ми маємо датасет з 11 колонками: gender - стать, age - вік, hypertension - чи страждає пацієнт гіпертонією, heart_disease - чи маєме пацієнт захворювання серця, ever_married - чи був коли-небудь пацієнт одруженим, work_type - тип роботи, Residence_type - де проживає пацієнт, avg_glucose_level - середній рівень цекру в крові, bmi - індекс маси тіла, smoking_status - статус куріння, stroke - чи стикався пацієн з інсультом. Три з цих характеристик чисельні, п'ять категоріальні, та чотири булеві (у датасеті вони відображені в вигляді 0 та 1)"
   ],
   "metadata": {
    "collapsed": false,
    "pycharm": {
     "name": "#%% md\n"
    }
   }
  },
  {
   "cell_type": "code",
   "execution_count": 2,
   "outputs": [
    {
     "name": "stdout",
     "output_type": "stream",
     "text": [
      "<class 'pandas.core.frame.DataFrame'>\n",
      "RangeIndex: 5110 entries, 0 to 5109\n",
      "Data columns (total 12 columns):\n",
      " #   Column             Non-Null Count  Dtype  \n",
      "---  ------             --------------  -----  \n",
      " 0   id                 5110 non-null   int64  \n",
      " 1   gender             5110 non-null   object \n",
      " 2   age                5110 non-null   float64\n",
      " 3   hypertension       5110 non-null   int64  \n",
      " 4   heart_disease      5110 non-null   int64  \n",
      " 5   ever_married       5110 non-null   object \n",
      " 6   work_type          5110 non-null   object \n",
      " 7   Residence_type     5110 non-null   object \n",
      " 8   avg_glucose_level  5110 non-null   float64\n",
      " 9   bmi                4909 non-null   float64\n",
      " 10  smoking_status     5110 non-null   object \n",
      " 11  stroke             5110 non-null   int64  \n",
      "dtypes: float64(3), int64(4), object(5)\n",
      "memory usage: 479.2+ KB\n"
     ]
    }
   ],
   "source": [
    "df.info()"
   ],
   "metadata": {
    "collapsed": false,
    "pycharm": {
     "name": "#%%\n"
    }
   }
  },
  {
   "cell_type": "markdown",
   "source": [
    "Подивимось на категоріальні ознаки, які ми маємо"
   ],
   "metadata": {
    "collapsed": false,
    "pycharm": {
     "name": "#%% md\n"
    }
   }
  },
  {
   "cell_type": "code",
   "execution_count": 3,
   "outputs": [
    {
     "data": {
      "text/plain": "Female    2994\nMale      2115\nOther        1\nName: gender, dtype: int64"
     },
     "execution_count": 3,
     "metadata": {},
     "output_type": "execute_result"
    }
   ],
   "source": [
    "df['gender'].value_counts()"
   ],
   "metadata": {
    "collapsed": false,
    "pycharm": {
     "name": "#%%\n"
    }
   }
  },
  {
   "cell_type": "markdown",
   "source": [
    "Значення Other зустрічається всього раз, тому напевно варто його видалити"
   ],
   "metadata": {
    "collapsed": false,
    "pycharm": {
     "name": "#%% md\n"
    }
   }
  },
  {
   "cell_type": "code",
   "execution_count": 4,
   "outputs": [],
   "source": [
    "df.drop(labels=3116, inplace=True, axis=0)  # gender 'other' delete"
   ],
   "metadata": {
    "collapsed": false,
    "pycharm": {
     "name": "#%%\n"
    }
   }
  },
  {
   "cell_type": "code",
   "execution_count": 5,
   "outputs": [
    {
     "data": {
      "text/plain": "Yes    3353\nNo     1756\nName: ever_married, dtype: int64"
     },
     "execution_count": 5,
     "metadata": {},
     "output_type": "execute_result"
    }
   ],
   "source": [
    "df['ever_married'].value_counts()"
   ],
   "metadata": {
    "collapsed": false,
    "pycharm": {
     "name": "#%%\n"
    }
   }
  },
  {
   "cell_type": "code",
   "execution_count": 6,
   "outputs": [
    {
     "data": {
      "text/plain": "Private          2924\nSelf-employed     819\nchildren          687\nGovt_job          657\nNever_worked       22\nName: work_type, dtype: int64"
     },
     "execution_count": 6,
     "metadata": {},
     "output_type": "execute_result"
    }
   ],
   "source": [
    "df['work_type'].value_counts()"
   ],
   "metadata": {
    "collapsed": false,
    "pycharm": {
     "name": "#%%\n"
    }
   }
  },
  {
   "cell_type": "code",
   "execution_count": 7,
   "outputs": [
    {
     "data": {
      "text/plain": "Urban    2596\nRural    2513\nName: Residence_type, dtype: int64"
     },
     "execution_count": 7,
     "metadata": {},
     "output_type": "execute_result"
    }
   ],
   "source": [
    "df['Residence_type'].value_counts()"
   ],
   "metadata": {
    "collapsed": false,
    "pycharm": {
     "name": "#%%\n"
    }
   }
  },
  {
   "cell_type": "code",
   "execution_count": 8,
   "outputs": [
    {
     "data": {
      "text/plain": "never smoked       1892\nUnknown            1544\nformerly smoked     884\nsmokes              789\nName: smoking_status, dtype: int64"
     },
     "execution_count": 8,
     "metadata": {},
     "output_type": "execute_result"
    }
   ],
   "source": [
    "df['smoking_status'].value_counts()"
   ],
   "metadata": {
    "collapsed": false,
    "pycharm": {
     "name": "#%%\n"
    }
   }
  },
  {
   "cell_type": "markdown",
   "source": [
    "Статус куріння 'Unknown' зустрічається вибірці аж 1544, це близько 30% усієї вибірки, тож ми змушені видалити цю властивість"
   ],
   "metadata": {
    "collapsed": false,
    "pycharm": {
     "name": "#%% md\n"
    }
   }
  },
  {
   "cell_type": "code",
   "execution_count": 9,
   "outputs": [],
   "source": [
    "df = df.drop('smoking_status', axis=1)"
   ],
   "metadata": {
    "collapsed": false,
    "pycharm": {
     "name": "#%%\n"
    }
   }
  },
  {
   "cell_type": "markdown",
   "source": [
    "Знайдемо усі унікальні значення"
   ],
   "metadata": {
    "collapsed": false,
    "pycharm": {
     "name": "#%% md\n"
    }
   }
  },
  {
   "cell_type": "code",
   "execution_count": 11,
   "outputs": [],
   "source": [
    "gen = pd.Series(pd.unique(df['gender'])).rename('Gender')\n",
    "mar = pd.Series(pd.unique(df['ever_married'])).rename('Married')\n",
    "res = pd.Series(pd.unique(df['Residence_type'])).rename('Residence_type')\n",
    "work = pd.Series(pd.unique(df['work_type'])).rename('Work')"
   ],
   "metadata": {
    "collapsed": false,
    "pycharm": {
     "name": "#%%\n"
    }
   }
  },
  {
   "cell_type": "code",
   "execution_count": 12,
   "outputs": [],
   "source": [
    "def change_data(ser, df):\n",
    "    for i in range(0, ser.shape[0]):\n",
    "        df = df.replace(ser[i], i)\n",
    "    return df"
   ],
   "metadata": {
    "collapsed": false,
    "pycharm": {
     "name": "#%%\n"
    }
   }
  },
  {
   "cell_type": "code",
   "execution_count": 13,
   "outputs": [],
   "source": [
    "df['gender'] = change_data(gen, df['gender'])\n",
    "df['ever_married'] = change_data(mar, df['ever_married'])\n",
    "df['Residence_type'] = change_data(res, df['Residence_type'])\n",
    "df['work_type'] = change_data(work, df['work_type'])"
   ],
   "metadata": {
    "collapsed": false,
    "pycharm": {
     "name": "#%%\n"
    }
   }
  },
  {
   "cell_type": "code",
   "execution_count": 17,
   "outputs": [
    {
     "data": {
      "text/plain": "id                   False\ngender               False\nage                  False\nhypertension         False\nheart_disease        False\never_married         False\nwork_type            False\nResidence_type       False\navg_glucose_level    False\nbmi                   True\nstroke               False\ndtype: bool"
     },
     "execution_count": 17,
     "metadata": {},
     "output_type": "execute_result"
    }
   ],
   "source": [
    "df.isna().any()"
   ],
   "metadata": {
    "collapsed": false,
    "pycharm": {
     "name": "#%%\n"
    }
   }
  },
  {
   "cell_type": "code",
   "execution_count": 21,
   "outputs": [],
   "source": [
    "X = df[['gender', 'age', 'hypertension', 'heart_disease', 'ever_married', 'work_type', 'Residence_type', 'avg_glucose_level', 'avg_glucose_level', 'bmi', 'stroke']]\n",
    "\n",
    "imputer = KNNImputer(n_neighbors=3)\n",
    "imputed = imputer.fit_transform(df)\n",
    "df_imputed = pd.DataFrame(imputed, columns=df.columns)\n"
   ],
   "metadata": {
    "collapsed": false,
    "pycharm": {
     "name": "#%%\n"
    }
   }
  },
  {
   "cell_type": "code",
   "execution_count": 23,
   "outputs": [
    {
     "data": {
      "text/plain": "id                   False\ngender               False\nage                  False\nhypertension         False\nheart_disease        False\never_married         False\nwork_type            False\nResidence_type       False\navg_glucose_level    False\nbmi                  False\nstroke               False\ndtype: bool"
     },
     "execution_count": 23,
     "metadata": {},
     "output_type": "execute_result"
    }
   ],
   "source": [
    "df_imputed.isna().any()"
   ],
   "metadata": {
    "collapsed": false,
    "pycharm": {
     "name": "#%%\n"
    }
   }
  },
  {
   "cell_type": "markdown",
   "source": [
    "І скрипти внесення оброблених даних до сховища"
   ],
   "metadata": {
    "collapsed": false,
    "pycharm": {
     "name": "#%% md\n"
    }
   }
  },
  {
   "cell_type": "code",
   "execution_count": 3,
   "outputs": [],
   "source": [
    "user = 'root'\n",
    "password = 'secret'\n",
    "host = 'localhost'\n",
    "port = 3306\n",
    "database = 'cw'"
   ],
   "metadata": {
    "collapsed": false,
    "pycharm": {
     "name": "#%%\n"
    }
   }
  },
  {
   "cell_type": "code",
   "execution_count": null,
   "outputs": [],
   "source": [
    "def get_connection():\n",
    "    return create_engine(\n",
    "        url=\"mysql+pymysql://{0}:{1}@{2}:{3}/{4}\".format(\n",
    "            user, password, host, port, database\n",
    "        )\n",
    "    )\n",
    "\n",
    "def fill_db(data, table):\n",
    "    data.to_sql(table, con=conn, if_exists='append', index=False)\n",
    "\n",
    "def get_connection_sqlite(db):\n",
    "        conn = sqlite3.connect(db)\n",
    "        return conn"
   ],
   "metadata": {
    "collapsed": false,
    "pycharm": {
     "name": "#%%\n"
    }
   }
  },
  {
   "cell_type": "code",
   "execution_count": null,
   "outputs": [],
   "source": [
    "try:\n",
    "    conn = get_connection()\n",
    "    print(\n",
    "        f\"Connection to the {host} for user {user} created successfully.\")\n",
    "except Exception as ex:\n",
    "    print(\"Connection could not be made due to the following error: \\n\", ex)\n",
    "\n",
    "    # --Gen\n",
    "fill_db(gen, 'gen')\n",
    "\n",
    "    # --Mar\n",
    "fill_db(mar, 'mar')\n",
    "\n",
    "    # --Res\n",
    "fill_db(res, 'res')\n",
    "\n",
    "    # --Work\n",
    "fill_db(work, 'work')\n",
    "\n",
    "X = df[['gender', 'age', 'hypertension', 'heart_disease', 'ever_married', 'work_type', 'Residence_type',\n",
    "            'avg_glucose_level', 'bmi', 'stroke']]\n",
    "\n",
    "fill_db(df_imputed, 'stroke_prediction_dataset')"
   ],
   "metadata": {
    "collapsed": false,
    "pycharm": {
     "name": "#%%\n"
    }
   }
  }
 ],
 "metadata": {
  "kernelspec": {
   "display_name": "Python 3",
   "language": "python",
   "name": "python3"
  },
  "language_info": {
   "codemirror_mode": {
    "name": "ipython",
    "version": 2
   },
   "file_extension": ".py",
   "mimetype": "text/x-python",
   "name": "python",
   "nbconvert_exporter": "python",
   "pygments_lexer": "ipython2",
   "version": "2.7.6"
  }
 },
 "nbformat": 4,
 "nbformat_minor": 0
}